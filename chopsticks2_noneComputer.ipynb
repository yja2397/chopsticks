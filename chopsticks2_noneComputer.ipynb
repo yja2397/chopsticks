{
 "cells": [
  {
   "cell_type": "code",
   "execution_count": 13,
   "metadata": {
    "collapsed": true
   },
   "outputs": [],
   "source": [
    "### 젓가락을 만들자\n",
    "# Chopsticks game"
   ]
  },
  {
   "cell_type": "code",
   "execution_count": 14,
   "metadata": {
    "collapsed": true
   },
   "outputs": [],
   "source": [
    "import random"
   ]
  },
  {
   "cell_type": "code",
   "execution_count": 15,
   "metadata": {
    "collapsed": true
   },
   "outputs": [],
   "source": [
    "def gameStart(): # 게임 시작\n",
    "    \n",
    "    # 사람 두명 만들기\n",
    "    player1 = player(\"세공사\")\n",
    "    player2 = player(\"땜장이\")\n",
    "    playerList = [player1, player2]\n",
    "    \n",
    "    random.shuffle(playerList)\n",
    "    \n",
    "    print(\"\" + playerList[0].getName() + \"(이)가 선입니다.\")\n",
    "    turn = playerList[0]\n",
    "    \n",
    "    counts = 0\n",
    "    print()\n",
    "    \n",
    "    while True:\n",
    "        print()\n",
    "        if turn == player1:\n",
    "            doTurn(player1, player2)\n",
    "            turn = player2\n",
    "        else:\n",
    "            doTurn(player2, player1)\n",
    "            turn = player1\n",
    "        counts += 1\n",
    "        \n",
    "        print()\n",
    "        if showPlayerFingers(playerList) == False:\n",
    "            break\n",
    "    \n",
    "    print()\n",
    "    print(str(counts/2) + '턴 만에 끝났습니다.')"
   ]
  },
  {
   "cell_type": "code",
   "execution_count": null,
   "metadata": {
    "collapsed": true
   },
   "outputs": [],
   "source": [
    "def doTurn(person, otherPerson):\n",
    "    print(person.getName(), \"의 차례입니다.\", sep = \"\")\n",
    "    print(\"무엇을 하시겠습니까?\")\n",
    "    while True:\n",
    "        both_fingers = person.leftHand.getFingers() + person.rightHand.getFingers()\n",
    "        if both_fingers not in [2, 3, 4, 5, 6]:\n",
    "            attackOtherPlayer(person, otherPerson)\n",
    "            break\n",
    "        else:\n",
    "            print(\"1. 공격  2. 바꾸기\")\n",
    "            do = int(input())\n",
    "            if do is 1:\n",
    "                attackOtherPlayer(person, otherPerson)\n",
    "                break\n",
    "            elif do is 2:\n",
    "                person.reconstruct()\n",
    "                break\n",
    "            else:\n",
    "                print(\"잘못된 입력입니다.\")"
   ]
  },
  {
   "cell_type": "code",
   "execution_count": null,
   "metadata": {
    "collapsed": true
   },
   "outputs": [],
   "source": [
    "def isValidHit(leftHand, rightHand):\n",
    "    if(leftFinger == 1 and rightFinger == 0):\n",
    "        return False\n",
    "    if(leftFinger == 0 and rightFinger == 1):\n",
    "        return False\n",
    "    if(leftFinger == 4 and rightFinger == 4):\n",
    "        return False\n",
    "    if(leftFinger == 4 and rightFinger == 3):\n",
    "        return False\n",
    "    if(leftFinger == 3 and rightFinger == 4):\n",
    "        return False"
   ]
  },
  {
   "cell_type": "code",
   "execution_count": 18,
   "metadata": {
    "collapsed": true
   },
   "outputs": [],
   "source": [
    "def whoGoesFirst(A, B):\n",
    "    if random.randint(0,1) == 0:\n",
    "        return A\n",
    "    else:\n",
    "        return B\n",
    "    "
   ]
  },
  {
   "cell_type": "code",
   "execution_count": 19,
   "metadata": {
    "collapsed": true
   },
   "outputs": [],
   "source": [
    "def playAgain():\n",
    "    print('Do you want to play again? (yes or no)')\n",
    "    return input().lower().startswith('y')"
   ]
  },
  {
   "cell_type": "code",
   "execution_count": 20,
   "metadata": {
    "collapsed": true
   },
   "outputs": [],
   "source": [
    "def attackOtherPlayer(player , otherPlayer):\n",
    "    a = \"\"\n",
    "    if player.leftHand.getFingers() > 0:\n",
    "        a += \"1. 왼손\"\n",
    "    if player.rightHand.getFingers() > 0:\n",
    "        a += \"  2. 오른손\"\n",
    "        \n",
    "    print(\"자기 손을 선택하시오  \" + a + \"  > \" , end = \"\")\n",
    "    m = int(input())\n",
    "    if m == 1:\n",
    "        hand1 = player.leftHand\n",
    "    else:\n",
    "        hand1 = player.rightHand\n",
    "    \n",
    "    b = \"\"\n",
    "    if otherPlayer.leftHand.getFingers() > 0:\n",
    "        b += \"1. 왼손\"\n",
    "    if otherPlayer.rightHand.getFingers() > 0:\n",
    "        b += \"  2. 오른손\"\n",
    "    \n",
    "    print(\"상대 손을 선택하시오  \" + b + \"  > \" , end = \"\")\n",
    "    o = int(input())\n",
    "    if o == 1:\n",
    "        attack(hand1, otherPlayer.leftHand)\n",
    "    else:\n",
    "        attack(hand1, otherPlayer.rightHand)\n",
    "    \n",
    "    \n",
    "def attack(hand1, hand2):\n",
    "    attacked = hand1.getFingers() + hand2.getFingers()\n",
    "    if attacked >= 5:\n",
    "        attacked = 0\n",
    "        print(\"상대방의 손이 격파되었습니다.\")\n",
    "    else:\n",
    "        print(\"공격받은 손의 손가락 수는\", attacked, \"개 입니다.\")\n",
    "        \n",
    "    hand2.setFingers(attacked)\n",
    "    return\n"
   ]
  },
  {
   "cell_type": "code",
   "execution_count": 21,
   "metadata": {
    "collapsed": true
   },
   "outputs": [],
   "source": [
    "### 손 객체\n",
    "### 손가락의 수를 가지고 있음\n",
    "\n",
    "class hand:\n",
    "    def __init__(self):\n",
    "        self.fingers = 1\n",
    "    \n",
    "    def getPlayer(self):\n",
    "        return self.player\n",
    "    \n",
    "    def getFingers(self):\n",
    "        return self.fingers\n",
    "\n",
    "    def setFingers(self, k):\n",
    "        self.fingers = k\n",
    "        "
   ]
  },
  {
   "cell_type": "code",
   "execution_count": 22,
   "metadata": {
    "collapsed": true
   },
   "outputs": [],
   "source": [
    "finger_construct_list = {2:[[0, 2], [1, 1], [2, 0]], 3:[[0, 3], [1, 2], [2, 1], [3, 0]], 4:[[0, 4], [1, 3], [2, 2], [3, 1], [4, 0]], 5:[[1, 4], [2, 3], [3, 2], [4, 1]], 6:[[2, 4], [3, 3], [4, 2]]}"
   ]
  },
  {
   "cell_type": "code",
   "execution_count": 23,
   "metadata": {
    "collapsed": true
   },
   "outputs": [],
   "source": [
    "### 플레이어 객체\n",
    "### 플레이어 네임과 2개의 손을 가지고 있음\n",
    "\n",
    "\n",
    "class player:\n",
    "    def __init__(self, name=\"Player\"):\n",
    "        self.name = name\n",
    "        self.leftHand = hand()\n",
    "        self.rightHand = hand()\n",
    "    \n",
    "    def getName(self):\n",
    "        return self.name\n",
    "    \n",
    "    def setName(self, name):\n",
    "        self.name = name\n",
    "    \n",
    "    def reconstruct(self, finger_construct=finger_construct_list):\n",
    "        both_fingers = self.leftHand.getFingers() + self.rightHand.getFingers()\n",
    "        if both_fingers not in [2, 3, 4, 5, 6]:\n",
    "            print(\"손가락을 바꿀 수 없습니다.\")\n",
    "            return\n",
    "        finger_list = finger_construct[both_fingers]\n",
    "        print(\"바꿀 조합 선택\")\n",
    "        print(\"0 : 돌아가기\")\n",
    "        for i in range(1, len(finger_list)+1):\n",
    "            print(i, \":\", finger_list[i-1])\n",
    "        while True:\n",
    "            print(\">\", end = \" \")\n",
    "            k = int(input())\n",
    "            if (k-1) in [self.leftHand.getFingers(), self.rightHand.getFingers()]:\n",
    "                print(\"해당 조합은 선택 못해\")\n",
    "            elif (k-1) in list(range(len(finger_list))):\n",
    "                self.leftHand.setFingers(finger_list[k-1][0])\n",
    "                self.rightHand.setFingers(finger_list[k-1][1])\n",
    "                break\n",
    "            else:\n",
    "                print(\"손가락이 참 많으시군요\")\n",
    "    \n",
    "    def showFingers(self):\n",
    "        print(\"왼손 :\", self.leftHand.getFingers(), \" 오른손 :\", self.rightHand.getFingers())\n"
   ]
  },
  {
   "cell_type": "code",
   "execution_count": 24,
   "metadata": {
    "collapsed": true
   },
   "outputs": [],
   "source": [
    "def showPlayerFingers(A):\n",
    "    for i in A:\n",
    "        if(i.leftHand.getFingers() == 0 and i.rightHand.getFingers() == 0):\n",
    "            print(i.getName() + \" 탈락!\")\n",
    "            return False\n",
    "        \n",
    "    for i in A:\n",
    "        print(i.getName() + \"의 손가락 현황\")\n",
    "        i.showFingers()\n",
    "    return True"
   ]
  },
  {
   "cell_type": "code",
   "execution_count": null,
   "metadata": {},
   "outputs": [
    {
     "name": "stdout",
     "output_type": "stream",
     "text": [
      "젓가락 게임을 해볼까요?\n",
      "세공사(이)가 선입니다.\n",
      "\n",
      "\n",
      "세공사의 차례입니다.\n",
      "무엇을 하시겠습니까?\n",
      "1. 공격  2. 바꾸기\n",
      "1\n",
      "자기 손을 선택하시오  1. 왼손  2. 오른손  > 1\n",
      "상대 손을 선택하시오  1. 왼손  2. 오른손  > 1\n",
      "공격받은 손의 손가락 수는 2 개 입니다.\n",
      "\n",
      "세공사의 손가락 현황\n",
      "왼손 : 1  오른손 : 1\n",
      "땜장이의 손가락 현황\n",
      "왼손 : 2  오른손 : 1\n",
      "\n",
      "땜장이의 차례입니다.\n",
      "무엇을 하시겠습니까?\n",
      "1. 공격  2. 바꾸기\n",
      "2\n",
      "바꿀 조합 선택\n",
      "0 : 돌아가기\n",
      "1 : [0, 3]\n",
      "2 : [1, 2]\n",
      "3 : [2, 1]\n",
      "4 : [3, 0]\n",
      "> 1\n",
      "\n",
      "세공사의 손가락 현황\n",
      "왼손 : 1  오른손 : 1\n",
      "땜장이의 손가락 현황\n",
      "왼손 : 0  오른손 : 3\n",
      "\n",
      "세공사의 차례입니다.\n",
      "무엇을 하시겠습니까?\n",
      "1. 공격  2. 바꾸기\n",
      "2\n",
      "바꿀 조합 선택\n",
      "0 : 돌아가기\n",
      "1 : [0, 2]\n",
      "2 : [1, 1]\n",
      "3 : [2, 0]\n",
      "> 1\n",
      "\n",
      "세공사의 손가락 현황\n",
      "왼손 : 0  오른손 : 2\n",
      "땜장이의 손가락 현황\n",
      "왼손 : 0  오른손 : 3\n",
      "\n",
      "땜장이의 차례입니다.\n",
      "무엇을 하시겠습니까?\n",
      "1. 공격  2. 바꾸기\n",
      "2\n",
      "바꿀 조합 선택\n",
      "0 : 돌아가기\n",
      "1 : [0, 3]\n",
      "2 : [1, 2]\n",
      "3 : [2, 1]\n",
      "4 : [3, 0]\n",
      "> 1\n",
      "해당 조합은 선택 못해\n",
      "> 2\n",
      "\n",
      "세공사의 손가락 현황\n",
      "왼손 : 0  오른손 : 2\n",
      "땜장이의 손가락 현황\n",
      "왼손 : 1  오른손 : 2\n",
      "\n",
      "세공사의 차례입니다.\n",
      "무엇을 하시겠습니까?\n",
      "1. 공격  2. 바꾸기\n",
      "1\n",
      "자기 손을 선택하시오    2. 오른손  > 2\n",
      "상대 손을 선택하시오  1. 왼손  2. 오른손  > 1\n",
      "공격받은 손의 손가락 수는 3 개 입니다.\n",
      "\n",
      "세공사의 손가락 현황\n",
      "왼손 : 0  오른손 : 2\n",
      "땜장이의 손가락 현황\n",
      "왼손 : 3  오른손 : 2\n",
      "\n",
      "땜장이의 차례입니다.\n",
      "무엇을 하시겠습니까?\n",
      "1. 공격  2. 바꾸기\n",
      "2\n",
      "바꿀 조합 선택\n",
      "0 : 돌아가기\n",
      "1 : [1, 4]\n",
      "2 : [2, 3]\n",
      "3 : [3, 2]\n",
      "4 : [4, 1]\n",
      "> 4\n",
      "해당 조합은 선택 못해\n",
      "> 1\n",
      "\n",
      "세공사의 손가락 현황\n",
      "왼손 : 0  오른손 : 2\n",
      "땜장이의 손가락 현황\n",
      "왼손 : 1  오른손 : 4\n",
      "\n",
      "세공사의 차례입니다.\n",
      "무엇을 하시겠습니까?\n",
      "1. 공격  2. 바꾸기\n",
      "1\n",
      "자기 손을 선택하시오    2. 오른손  > 2\n",
      "상대 손을 선택하시오  1. 왼손  2. 오른손  > 2\n",
      "상대방의 손이 격파되었습니다.\n",
      "\n",
      "세공사의 손가락 현황\n",
      "왼손 : 0  오른손 : 2\n",
      "땜장이의 손가락 현황\n",
      "왼손 : 1  오른손 : 0\n",
      "\n",
      "땜장이의 차례입니다.\n",
      "무엇을 하시겠습니까?\n",
      "자기 손을 선택하시오  1. 왼손  > 1\n",
      "상대 손을 선택하시오    2. 오른손  > 2\n",
      "공격받은 손의 손가락 수는 3 개 입니다.\n",
      "자기 손을 선택하시오  1. 왼손  > 1\n",
      "상대 손을 선택하시오    2. 오른손  > 2\n",
      "공격받은 손의 손가락 수는 4 개 입니다.\n",
      "자기 손을 선택하시오  1. 왼손  > 1\n",
      "상대 손을 선택하시오    2. 오른손  > 2\n",
      "상대방의 손이 격파되었습니다.\n",
      "자기 손을 선택하시오  1. 왼손  > 1\n",
      "상대 손을 선택하시오    > "
     ]
    }
   ],
   "source": [
    "print(\"젓가락 게임을 해볼까요?\")\n",
    "\n",
    "while True:\n",
    "    gameStart()\n",
    "    if not playAgain():\n",
    "        print(\"안녕!\")\n",
    "        break"
   ]
  }
 ],
 "metadata": {
  "anaconda-cloud": {},
  "kernelspec": {
   "display_name": "Python 3",
   "language": "python",
   "name": "python3"
  },
  "language_info": {
   "codemirror_mode": {
    "name": "ipython",
    "version": 3
   },
   "file_extension": ".py",
   "mimetype": "text/x-python",
   "name": "python",
   "nbconvert_exporter": "python",
   "pygments_lexer": "ipython3",
   "version": "3.6.3"
  }
 },
 "nbformat": 4,
 "nbformat_minor": 1
}
