{
 "cells": [
  {
   "cell_type": "code",
   "execution_count": 1,
   "metadata": {
    "collapsed": true
   },
   "outputs": [],
   "source": [
    "# Chopsticks game\n",
    "\n",
    "import random"
   ]
  },
  {
   "cell_type": "code",
   "execution_count": 4,
   "metadata": {
    "collapsed": true
   },
   "outputs": [],
   "source": [
    "def gameStart():\n",
    "    turn = whoGoesFirst()\n",
    "    print('The ' + turn + ' will go first')\n",
    "    # 사람 두명 만들기\n",
    "    counts = 0\n",
    "    \n",
    "    while True:\n",
    "        if turn == 'A':\n",
    "            doTurn(A)\n",
    "        else:\n",
    "            doTurn(P)\n",
    "        counts += 1\n",
    "        \n",
    "    print('Over at ' + counts + 'times. ' + person + 'win!')"
   ]
  },
  {
   "cell_type": "code",
   "execution_count": 5,
   "metadata": {},
   "outputs": [
    {
     "ename": "IndentationError",
     "evalue": "unexpected indent (<ipython-input-5-162de751224b>, line 4)",
     "output_type": "error",
     "traceback": [
      "\u001b[1;36m  File \u001b[1;32m\"<ipython-input-5-162de751224b>\"\u001b[1;36m, line \u001b[1;32m4\u001b[0m\n\u001b[1;33m    if input().lower().startswith('o'):\u001b[0m\n\u001b[1;37m    ^\u001b[0m\n\u001b[1;31mIndentationError\u001b[0m\u001b[1;31m:\u001b[0m unexpected indent\n"
     ]
    }
   ],
   "source": [
    "def doTurn(person):\n",
    "    if isValidHit(leftHand, rightHand):\n",
    "        print('What will you hit? (mine or opponent)')\n",
    "            if input().lower().startswith('o'):\n",
    "                # 상대꺼 때리기\n",
    "            else :\n",
    "                # 내꺼 때리기\n",
    "    else:\n",
    "        # 상대꺼 때리기"
   ]
  },
  {
   "cell_type": "code",
   "execution_count": 6,
   "metadata": {},
   "outputs": [],
   "source": [
    "def whoTurn(a, b, c):\n",
    "    rand = random.randint(0,6)\n",
    "    if rand == 0:\n",
    "        return a + '=' + b + '=' + c\n",
    "    elif rand == 1:\n",
    "        return a + '=' + c + '=' + b\n",
    "    elif rand == 2:\n",
    "        return b + '=' + a + '=' + c\n",
    "    elif rand == 3:\n",
    "        return b + '=' + c + '=' + a\n",
    "    elif rand == 4:\n",
    "        return c + '=' + a + '=' + b\n",
    "    elif rand == 5:\n",
    "        return c + '=' + b + '=' + a"
   ]
  },
  {
   "cell_type": "code",
   "execution_count": 7,
   "metadata": {},
   "outputs": [
    {
     "ename": "SyntaxError",
     "evalue": "invalid syntax (<ipython-input-7-52a330566754>, line 2)",
     "output_type": "error",
     "traceback": [
      "\u001b[1;36m  File \u001b[1;32m\"<ipython-input-7-52a330566754>\"\u001b[1;36m, line \u001b[1;32m2\u001b[0m\n\u001b[1;33m    if rand = random.randint(0,1) == 0:\u001b[0m\n\u001b[1;37m            ^\u001b[0m\n\u001b[1;31mSyntaxError\u001b[0m\u001b[1;31m:\u001b[0m invalid syntax\n"
     ]
    }
   ],
   "source": [
    "def whoGoesSecond(t, d):\n",
    "    if rand = random.randint(0,1) == 0:\n",
    "        return t\n",
    "    else:\n",
    "        return d"
   ]
  },
  {
   "cell_type": "code",
   "execution_count": 8,
   "metadata": {
    "collapsed": true
   },
   "outputs": [],
   "source": [
    "def playAgain():\n",
    "    print('Do you want to play again? (yes or no)')\n",
    "    return input().lower().startswith('y')"
   ]
  },
  {
   "cell_type": "code",
   "execution_count": 9,
   "metadata": {
    "collapsed": true
   },
   "outputs": [],
   "source": [
    "def isValidHit(leftHand, rightHand):\n",
    "    if(leftFinger == 1 and rightFinger == 0):\n",
    "        return False\n",
    "    if(leftFinger == 0 and rightFinger == 1):\n",
    "        return False\n",
    "    if(leftFinger == 4 and rightFinger == 4):\n",
    "        return False\n",
    "    if(leftFinger == 4 and rightFinger == 3):\n",
    "        return False\n",
    "    if(leftFinger == 3 and rightFinger == 4):\n",
    "        return False"
   ]
  },
  {
   "cell_type": "code",
   "execution_count": 3,
   "metadata": {},
   "outputs": [
    {
     "name": "stdout",
     "output_type": "stream",
     "text": [
      "Let's play chopsticks game!\n",
      "How many people do the game?\n",
      "3\n",
      "Tell the person's namemillo\n",
      "Tell the person's nameape\n",
      "Tell the person's nametaylor\n",
      "The game proceeds in the order of millo, taylor, ape.\n"
     ]
    },
    {
     "ename": "NameError",
     "evalue": "name 'playAgain' is not defined",
     "output_type": "error",
     "traceback": [
      "\u001b[1;31m---------------------------------------------------------------------------\u001b[0m",
      "\u001b[1;31mNameError\u001b[0m                                 Traceback (most recent call last)",
      "\u001b[1;32m<ipython-input-3-2425bd4f8157>\u001b[0m in \u001b[0;36m<module>\u001b[1;34m()\u001b[0m\n\u001b[0;32m     18\u001b[0m     \u001b[0mprint\u001b[0m\u001b[1;33m(\u001b[0m\u001b[1;34m\"The game proceeds in the order of \"\u001b[0m \u001b[1;33m+\u001b[0m \u001b[0ma\u001b[0m \u001b[1;33m+\u001b[0m \u001b[1;34m\".\"\u001b[0m\u001b[1;33m)\u001b[0m\u001b[1;33m\u001b[0m\u001b[0m\n\u001b[0;32m     19\u001b[0m \u001b[1;33m\u001b[0m\u001b[0m\n\u001b[1;32m---> 20\u001b[1;33m     \u001b[1;32mif\u001b[0m \u001b[1;32mnot\u001b[0m \u001b[0mplayAgain\u001b[0m\u001b[1;33m(\u001b[0m\u001b[1;33m)\u001b[0m\u001b[1;33m:\u001b[0m\u001b[1;33m\u001b[0m\u001b[0m\n\u001b[0m\u001b[0;32m     21\u001b[0m         \u001b[0mprint\u001b[0m\u001b[1;33m(\u001b[0m\u001b[1;34m\"Bye bye!\"\u001b[0m\u001b[1;33m)\u001b[0m\u001b[1;33m\u001b[0m\u001b[0m\n\u001b[0;32m     22\u001b[0m         \u001b[1;32mbreak\u001b[0m\u001b[1;33m\u001b[0m\u001b[0m\n",
      "\u001b[1;31mNameError\u001b[0m: name 'playAgain' is not defined"
     ]
    }
   ],
   "source": [
    "print(\"Let's play chopsticks game!\")\n",
    "\n",
    "while True:\n",
    "    while True:\n",
    "        print('How many people do the game?') # 2명 이상 게임\n",
    "        gamers = int(input())\n",
    "        if gamers >= 2:\n",
    "            break\n",
    "            \n",
    "    array = []\n",
    "    \n",
    "    for i in range(0,gamers):\n",
    "        array.append(str(input(\"Tell the person's name\")))\n",
    "        \n",
    "    random.shuffle(array)\n",
    "    order = \" \"\n",
    "    \n",
    "    a = \", \".join(array)\n",
    "    \n",
    "    print(\"The game proceeds in the order of \" + a + \".\")\n",
    "    \n",
    "    if not playAgain():\n",
    "        print(\"Bye bye!\")\n",
    "        break"
   ]
  },
  {
   "cell_type": "code",
   "execution_count": null,
   "metadata": {
    "collapsed": true
   },
   "outputs": [],
   "source": []
  },
  {
   "cell_type": "code",
   "execution_count": null,
   "metadata": {
    "collapsed": true
   },
   "outputs": [],
   "source": []
  },
  {
   "cell_type": "code",
   "execution_count": null,
   "metadata": {
    "collapsed": true
   },
   "outputs": [],
   "source": []
  },
  {
   "cell_type": "code",
   "execution_count": null,
   "metadata": {
    "collapsed": true
   },
   "outputs": [],
   "source": []
  },
  {
   "cell_type": "code",
   "execution_count": null,
   "metadata": {
    "collapsed": true
   },
   "outputs": [],
   "source": []
  },
  {
   "cell_type": "code",
   "execution_count": null,
   "metadata": {
    "collapsed": true
   },
   "outputs": [],
   "source": []
  }
 ],
 "metadata": {
  "kernelspec": {
   "display_name": "Python 3",
   "language": "python",
   "name": "python3"
  }
 },
 "nbformat": 4,
 "nbformat_minor": 2
}
