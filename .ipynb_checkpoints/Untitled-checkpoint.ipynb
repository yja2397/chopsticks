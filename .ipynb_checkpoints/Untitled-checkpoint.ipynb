{
 "cells": [
  {
   "cell_type": "code",
   "execution_count": 173,
   "metadata": {},
   "outputs": [],
   "source": [
    "import pygame"
   ]
  },
  {
   "cell_type": "code",
   "execution_count": 174,
   "metadata": {
    "collapsed": true
   },
   "outputs": [],
   "source": [
    "WHITE = (255,255,255)\n",
    "BLACK = (0,0,0)\n",
    "pad_width = 640\n",
    "light_pink = (255,51,255)\n",
    "dark_pink = (204,0,204)"
   ]
  },
  {
   "cell_type": "code",
   "execution_count": 203,
   "metadata": {},
   "outputs": [],
   "source": [
    "def start():\n",
    "    global gamepad, clock, background\n",
    "    \n",
    "    exit = False\n",
    "    while not exit:\n",
    "        for event in pygame.event.get():\n",
    "            if event.type == pygame.QUIT:\n",
    "                exit = True\n",
    "        gamepad.fill(WHITE)\n",
    "        gamepad.blit(background, (0, 0))\n",
    "        \n",
    "        start2 = pygame.image.load('images/start2.png')\n",
    "        gamepad.blit(start2, (110, 240))\n",
    "        \n",
    "        one1 = pygame.image.load('images/one1.png')\n",
    "        one2 = pygame.image.load('images/one2.png')\n",
    "        \n",
    "        two1 = pygame.image.load('images/two1.png')\n",
    "        two2 = pygame.image.load('images/two2.png')\n",
    "        \n",
    "        btn1 = button(gamepad, 110, 350, 140, 70, one1, one2, cpu)\n",
    "        btn2 = button(gamepad, 390, 350, 140, 70, two1, two2, friend)\n",
    "        \n",
    "        \n",
    "        pygame.display.update()\n",
    "        clock.tick(60)\n",
    "        \n",
    "    pygame.quit()"
   ]
  },
  {
   "cell_type": "code",
   "execution_count": 204,
   "metadata": {
    "collapsed": true
   },
   "outputs": [],
   "source": [
    "def cpu():\n",
    "    global gamepad, clock, background\n",
    "    \n",
    "    exit = False\n",
    "    while not exit:\n",
    "        for event in pygame.event.get():\n",
    "            if event.type == pygame.QUIT:\n",
    "                exit = True\n",
    "        gamepad.fill(WHITE)\n",
    "        gamepad.blit(background, (0, 0))\n",
    "        \n",
    "        start2 = pygame.image.load('images/start2.png')\n",
    "        gamepad.blit(start2, (110, 240))\n",
    "        \n",
    "        \n",
    "        one2 = pygame.image.load('images/one2.png')\n",
    "        gamepad.blit(one2, (110, 350))\n",
    "        \n",
    "        on = pygame.image.load('images/on.png')\n",
    "        off = pygame.image.load('images/off.png')\n",
    "        \n",
    "        btn1 = button(gamepad, 110, 460, 140, 70, on, off, friend2)\n",
    "        btn2 = button(gamepad, 390, 460, 140, 70, on, off, friend3)\n",
    "    \n",
    "        pygame.display.update()\n",
    "        clock.tick(60)\n",
    "        \n",
    "    pygame.quit()"
   ]
  },
  {
   "cell_type": "code",
   "execution_count": 205,
   "metadata": {
    "collapsed": true
   },
   "outputs": [],
   "source": [
    "def friend():\n",
    "    global gamepad, clock, background\n",
    "    \n",
    "    exit = False\n",
    "    while not exit:\n",
    "        for event in pygame.event.get():\n",
    "            if event.type == pygame.QUIT:\n",
    "                exit = True\n",
    "        gamepad.fill(WHITE)\n",
    "        gamepad.blit(background, (0, 0))\n",
    "        \n",
    "        start2 = pygame.image.load('images/start2.png')\n",
    "        gamepad.blit(start2, (110, 240))\n",
    "        \n",
    "        two2 = pygame.image.load('images/two2.png')\n",
    "        gamepad.blit(two2, (390, 350))\n",
    "        \n",
    "        on = pygame.image.load('images/on.png')\n",
    "        off = pygame.image.load('images/off.png')\n",
    "        \n",
    "        btn1 = button(gamepad, 110, 460, 140, 70, on, off, friend2)\n",
    "        btn2 = button(gamepad, 390, 460, 140, 70, on, off, friend3)\n",
    "        \n",
    "        pygame.display.update()\n",
    "        clock.tick(60)\n",
    "        \n",
    "    pygame.quit()"
   ]
  },
  {
   "cell_type": "code",
   "execution_count": 206,
   "metadata": {
    "collapsed": true
   },
   "outputs": [],
   "source": [
    "def friend2():\n",
    "    global gamepad\n",
    "    \n",
    "    exit = False\n",
    "    while not exit:\n",
    "        for event in pygame.event.get():\n",
    "            if event.type == pygame.QUIT:\n",
    "                exit = True\n",
    "        gamepad.fill(WHITE)\n",
    "        \n",
    "        pygame.display.update()\n",
    "        clock.tick(60)\n",
    "        \n",
    "    pygame.quit()\n",
    "    sys.exit()"
   ]
  },
  {
   "cell_type": "code",
   "execution_count": 207,
   "metadata": {
    "collapsed": true
   },
   "outputs": [],
   "source": [
    "def friend3():\n",
    "    global gamepad\n",
    "    \n",
    "    exit = False\n",
    "    while not exit:\n",
    "        for event in pygame.event.get():\n",
    "            if event.type == pygame.QUIT:\n",
    "                exit = True\n",
    "        gamepad.fill(WHITE)\n",
    "        \n",
    "        pygame.display.update()\n",
    "        clock.tick(60)\n",
    "        \n",
    "    pygame.quit()"
   ]
  },
  {
   "cell_type": "code",
   "execution_count": 208,
   "metadata": {
    "collapsed": true
   },
   "outputs": [],
   "source": [
    "def two():\n",
    "    global gamepad, clock, background\n",
    "    \n",
    "    exit = False\n",
    "    while not exit:\n",
    "        for event in pygame.event.get():\n",
    "            if event.type == pygame.QUIT:\n",
    "                exit = True\n",
    "        gamepad.fill(BLACK)\n",
    "        \n",
    "        pygame.display.update()\n",
    "        clock.tick(60)\n",
    "        \n",
    "    pygame.quit()"
   ]
  },
  {
   "cell_type": "code",
   "execution_count": 209,
   "metadata": {
    "collapsed": true
   },
   "outputs": [],
   "source": [
    "def three():\n",
    "    global gamepad, clock, background\n",
    "    \n",
    "    exit = False\n",
    "    while not exit:\n",
    "        for event in pygame.event.get():\n",
    "            if event.type == pygame.QUIT:\n",
    "                exit = True\n",
    "        gamepad.fill(WHITE)\n",
    "        \n",
    "        pygame.display.update()\n",
    "        clock.tick(60)\n",
    "        \n",
    "    pygame.quit()"
   ]
  },
  {
   "cell_type": "code",
   "execution_count": 210,
   "metadata": {
    "collapsed": true
   },
   "outputs": [],
   "source": [
    "def quit():\n",
    "    global exit\n",
    "    \n",
    "    exit = True"
   ]
  },
  {
   "cell_type": "code",
   "execution_count": 211,
   "metadata": {
    "collapsed": true
   },
   "outputs": [],
   "source": [
    "class button:\n",
    "    def __init__(self, gamepad, x, y, w, h, ic, ac, action = None):\n",
    "        self.x, self.y, self.w, self.h = [x,y,w,h]\n",
    "        self.ic, self.ac = [ic, ac]\n",
    "        self.action = action\n",
    "        \n",
    "        mouse = pygame.mouse.get_pos()\n",
    "        click = pygame.mouse.get_pressed()\n",
    "        \n",
    "        if self.x+self.w > mouse[0] > self.x and self.y + self.h > mouse[1] > self.y:\n",
    "            gamepad.blit(self.ac, (self.x,self.y))\n",
    "            if click[0] == 1 and self.action != None:\n",
    "                self.action()\n",
    "        else:\n",
    "            gamepad.blit(self.ic, (self.x,self.y))\n",
    "    \n",
    "    def setIm(self, ic, ac):\n",
    "        self.ic = ic\n",
    "        self.ac = ac\n",
    "        \n",
    "    def setAc(self, action):\n",
    "        self.action = action"
   ]
  },
  {
   "cell_type": "code",
   "execution_count": 212,
   "metadata": {
    "collapsed": true
   },
   "outputs": [],
   "source": [
    "def runGame():\n",
    "    global gamepad, clock, background\n",
    "    \n",
    "    exit = False\n",
    "    while not exit:\n",
    "        for event in pygame.event.get():\n",
    "            if event.type == pygame.QUIT:\n",
    "                exit = True\n",
    "        gamepad.fill(WHITE)\n",
    "        gamepad.blit(background, (0, 0))\n",
    "        \n",
    "        start1 = pygame.image.load('images/start1.png')\n",
    "        start2 = pygame.image.load('images/start2.png')\n",
    "        \n",
    "        exit1 = pygame.image.load('images/exit1.png')\n",
    "        exit2 = pygame.image.load('images/exit2.png')\n",
    "        \n",
    "        btn1 = button(gamepad, 110, 240, 140, 70, start1, start2, start)\n",
    "        btn2 = button(gamepad, 390, 240, 140, 70, exit1, exit2, quit)\n",
    "    \n",
    "        pygame.display.update()\n",
    "        clock.tick(60)\n",
    "        \n",
    "    pygame.quit()"
   ]
  },
  {
   "cell_type": "code",
   "execution_count": 213,
   "metadata": {
    "collapsed": true
   },
   "outputs": [],
   "source": [
    "def initGame():\n",
    "    global gamepad, clock, background\n",
    "    \n",
    "    pygame.init()\n",
    "    gamepad = pygame.display.set_mode((pad_width, pad_width))\n",
    "    pygame.display.set_caption('Chopsticks_Game')\n",
    "    background = pygame.image.load('images/background2.jpg')\n",
    "    \n",
    "    clock = pygame.time.Clock()\n",
    "    runGame()"
   ]
  },
  {
   "cell_type": "code",
   "execution_count": 215,
   "metadata": {},
   "outputs": [
    {
     "ename": "SystemExit",
     "evalue": "",
     "output_type": "error",
     "traceback": [
      "An exception has occurred, use %tb to see the full traceback.\n",
      "\u001b[1;31mSystemExit\u001b[0m\n"
     ]
    },
    {
     "name": "stderr",
     "output_type": "stream",
     "text": [
      "C:\\Anaconda3\\lib\\site-packages\\IPython\\core\\interactiveshell.py:2870: UserWarning: To exit: use 'exit', 'quit', or Ctrl-D.\n",
      "  warn(\"To exit: use 'exit', 'quit', or Ctrl-D.\", stacklevel=1)\n"
     ]
    }
   ],
   "source": [
    "initGame()"
   ]
  },
  {
   "cell_type": "code",
   "execution_count": null,
   "metadata": {
    "collapsed": true
   },
   "outputs": [],
   "source": []
  },
  {
   "cell_type": "code",
   "execution_count": null,
   "metadata": {
    "collapsed": true
   },
   "outputs": [],
   "source": []
  },
  {
   "cell_type": "code",
   "execution_count": null,
   "metadata": {
    "collapsed": true
   },
   "outputs": [],
   "source": []
  }
 ],
 "metadata": {
  "kernelspec": {
   "display_name": "Python 3",
   "language": "python",
   "name": "python3"
  },
  "language_info": {
   "codemirror_mode": {
    "name": "ipython",
    "version": 3
   },
   "file_extension": ".py",
   "mimetype": "text/x-python",
   "name": "python",
   "nbconvert_exporter": "python",
   "pygments_lexer": "ipython3",
   "version": "3.6.3"
  }
 },
 "nbformat": 4,
 "nbformat_minor": 2
}
