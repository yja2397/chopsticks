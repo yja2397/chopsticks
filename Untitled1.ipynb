{
 "cells": [
  {
   "cell_type": "code",
   "execution_count": 1,
   "metadata": {},
   "outputs": [],
   "source": [
    "import pygame\n",
    "import image\n",
    "import random"
   ]
  },
  {
   "cell_type": "code",
   "execution_count": 2,
   "metadata": {
    "collapsed": true
   },
   "outputs": [],
   "source": [
    "WHITE = (255,255,255)\n",
    "BLACK = (0,0,0)\n",
    "pad_width = 640"
   ]
  },
  {
   "cell_type": "code",
   "execution_count": 1,
   "metadata": {},
   "outputs": [
    {
     "ename": "IndentationError",
     "evalue": "unexpected indent (<ipython-input-1-9e39953e32d2>, line 22)",
     "output_type": "error",
     "traceback": [
      "\u001b[1;36m  File \u001b[1;32m\"<ipython-input-1-9e39953e32d2>\"\u001b[1;36m, line \u001b[1;32m22\u001b[0m\n\u001b[1;33m    if playerList[int(counts%p)].canPlay() == 1:\u001b[0m\n\u001b[1;37m    ^\u001b[0m\n\u001b[1;31mIndentationError\u001b[0m\u001b[1;31m:\u001b[0m unexpected indent\n"
     ]
    }
   ],
   "source": [
    "def gameStart(): # 게임 시작\n",
    "    global gamepad\n",
    "    \n",
    "    p = 2\n",
    "    \n",
    "    playerList = [player('player1'), player('player2')]\n",
    "    \n",
    "    random.shuffle(playerList)\n",
    "    \n",
    "    a = \"\"\n",
    "    for i in playerList:\n",
    "        a += i.getName() + \" \"\n",
    "    \n",
    "    fontObj = pygame.font.Font('EvilIcons.ttf', 32)\n",
    "    \n",
    "    print(\"게임이 \" + a + \"순으로 진행됩니다.\")\n",
    "    turn = playerList[0]\n",
    "    \n",
    "    counts = 0\n",
    "    \n",
    "  #  while True:\n",
    "        if playerList[int(counts%p)].canPlay() == 1:\n",
    "            textSurfaceObj = fontObj.render(playerList[int(counts%p)].getName() + \"의 차례입니다.\", True, BLACK)\n",
    "            textRectObj = textSurfaceObj.get_rect();\n",
    "            textRectObj.center = (320, 320)\n",
    "            gamepad.blit(textSurfaceObj, textRectObj)\n",
    "            \n",
    "        #    doTurn(playerList[(counts%p)], playerList)\n",
    "            \n",
    "            print()\n",
    "            if showPlayerFingers(playerList):\n",
    "                break\n",
    "        counts += 1\n",
    " \n",
    "    \n",
    "    \n",
    "    for i in playerList:\n",
    "        if playerList[i].canPlay() == 1:\n",
    "            winner = i.getName()\n",
    "    \n",
    "    win = str(int(counts/p))"
   ]
  },
  {
   "cell_type": "code",
   "execution_count": 4,
   "metadata": {},
   "outputs": [],
   "source": [
    "def doTurn(person, playerList):\n",
    "    while True:\n",
    "        both_fingers = person.leftHand.getFingers() + person.rightHand.getFingers()\n",
    "        if both_fingers not in [2, 3, 4, 5, 6]:\n",
    "            if do is 1:\n",
    "                attackOtherPlayer(person.leftHand, person, playerList)\n",
    "                break\n",
    "            elif do is 2:\n",
    "                attackOtherPlayer(person.rightHand, person, playerList)\n",
    "                break\n",
    "            else:\n",
    "                print()\n",
    "        else:\n",
    "            a = \"\"\n",
    "            if person.leftHand.getFingers() > 0:\n",
    "                a += \"1. 왼손 공격 \"\n",
    "            if person.rightHand.getFingers() > 0:\n",
    "                a += \"2. 오른손 공격 \"\n",
    "            print(a + \"3. 바꾸기\")\n",
    "            do = int(input())\n",
    "            if do is 1:\n",
    "                attackOtherPlayer(person.leftHand, person, playerList)\n",
    "                break\n",
    "            elif do is 2:\n",
    "                attackOtherPlayer(person.rightHand, person, playerList)\n",
    "                break\n",
    "            elif do is 3:\n",
    "                person.reconstruct()\n",
    "                break\n",
    "            else:\n",
    "                print(\"잘못된 입력입니다.\")"
   ]
  },
  {
   "cell_type": "code",
   "execution_count": 5,
   "metadata": {
    "collapsed": true
   },
   "outputs": [],
   "source": [
    "def choice(person, playerList):\n",
    "    a = \"\"\n",
    "    count = 0\n",
    "    for i in playerList:\n",
    "        if i != person and i.canPlay() == 1:\n",
    "            a += str(count) + i.getName() + \" \"\n",
    "        count += 1\n",
    "    return a"
   ]
  },
  {
   "cell_type": "code",
   "execution_count": 6,
   "metadata": {
    "collapsed": true
   },
   "outputs": [],
   "source": [
    "def playAgain():\n",
    "    print('게임을 다시 하시겠습니까? (yes or no)')\n",
    "    return input().lower().startswith('y')"
   ]
  },
  {
   "cell_type": "code",
   "execution_count": 7,
   "metadata": {
    "collapsed": true
   },
   "outputs": [],
   "source": [
    "def attackOtherPlayer(hand, person, playerList):\n",
    "    \n",
    "    print(\"공격하고 싶은 사람을 고르시오 \" + choice(person, playerList) + \"  > \", end = \"\")\n",
    "    \n",
    "    otherPlayer = playerList[int(input())]\n",
    "    \n",
    "    b = \"\"\n",
    "    if otherPlayer.leftHand.getFingers() > 0:\n",
    "        b += \"1. 왼손\"\n",
    "    if otherPlayer.rightHand.getFingers() > 0:\n",
    "        b += \"  2. 오른손\"\n",
    "    \n",
    "    print(\"상대 손을 선택하시오  \" + b + \"  > \" , end = \"\")\n",
    "    o = int(input())\n",
    "    if o == 1:\n",
    "        attack(hand, otherPlayer.leftHand)\n",
    "    else:\n",
    "        attack(hand, otherPlayer.rightHand)\n",
    "    \n",
    "    \n",
    "def attack(hand1, hand2):\n",
    "    attacked = hand1.getFingers() + hand2.getFingers()\n",
    "    if attacked >= 5:\n",
    "        attacked = 0\n",
    "        print(\"상대방의 손이 격파되었습니다.\")\n",
    "    else:\n",
    "        print(\"공격받은 손의 손가락 수는\", attacked, \"개 입니다.\")\n",
    "        \n",
    "    hand2.setFingers(attacked)\n",
    "    return\n"
   ]
  },
  {
   "cell_type": "code",
   "execution_count": 8,
   "metadata": {
    "collapsed": true
   },
   "outputs": [],
   "source": [
    "### 손 객체\n",
    "### 손가락의 수를 가지고 있음\n",
    "\n",
    "class hand:\n",
    "    def __init__(self):\n",
    "        self.fingers = 1\n",
    "    \n",
    "    def getFingers(self):\n",
    "        return self.fingers\n",
    "\n",
    "    def setFingers(self, k):\n",
    "        self.fingers = k\n",
    "        "
   ]
  },
  {
   "cell_type": "code",
   "execution_count": 9,
   "metadata": {
    "collapsed": true
   },
   "outputs": [],
   "source": [
    "finger_construct_list = {2:[[0, 2], [1, 1], [2, 0]], 3:[[0, 3], [1, 2], [2, 1], [3, 0]], 4:[[0, 4], [1, 3], [2, 2], [3, 1], [4, 0]], 5:[[1, 4], [2, 3], [3, 2], [4, 1]], 6:[[2, 4], [3, 3], [4, 2]]}"
   ]
  },
  {
   "cell_type": "code",
   "execution_count": 10,
   "metadata": {
    "collapsed": true
   },
   "outputs": [],
   "source": [
    "### 플레이어 객체\n",
    "### 플레이어 네임과 2개의 손을 가지고 있음\n",
    "\n",
    "\n",
    "class player:\n",
    "    def __init__(self, name=\"Player\"):\n",
    "        self.name = name\n",
    "        self.leftHand = hand()\n",
    "        self.rightHand = hand()\n",
    "        self.can = 1\n",
    "    \n",
    "    def getName(self):\n",
    "        return self.name\n",
    "    \n",
    "    def setName(self, name):\n",
    "        self.name = name\n",
    "    \n",
    "    def die(self):\n",
    "        self.can = 0\n",
    "    \n",
    "    def canPlay(self):\n",
    "        return self.can\n",
    "    \n",
    "    def reconstruct(self, finger_construct=finger_construct_list):\n",
    "        both_fingers = self.leftHand.getFingers() + self.rightHand.getFingers()\n",
    "        if both_fingers not in [2, 3, 4, 5, 6]:\n",
    "            print(\"손가락을 바꿀 수 없습니다.\")\n",
    "            return\n",
    "        finger_list = finger_construct[both_fingers]\n",
    "        print(\"바꿀 조합 선택\")\n",
    "        print(\"0 : 돌아가기\")\n",
    "        for i in range(1, len(finger_list)+1):\n",
    "            print(i, \":\", finger_list[i-1])\n",
    "        while True:\n",
    "            print(\">\", end = \" \")\n",
    "            k = int(input())\n",
    "            if (k-1) in [self.leftHand.getFingers(), self.rightHand.getFingers()]:\n",
    "                print(\"해당 조합은 선택 못해\")\n",
    "            elif (k-1) in list(range(len(finger_list))):\n",
    "                self.leftHand.setFingers(finger_list[k-1][0])\n",
    "                self.rightHand.setFingers(finger_list[k-1][1])\n",
    "                break\n",
    "            else:\n",
    "                print(\"손가락이 참 많으시군요\")\n",
    "    \n",
    "    def showFingers(self):\n",
    "        print(\"왼손 :\", self.leftHand.getFingers(), \" 오른손 :\", self.rightHand.getFingers())\n"
   ]
  },
  {
   "cell_type": "code",
   "execution_count": 11,
   "metadata": {
    "collapsed": true
   },
   "outputs": [],
   "source": [
    "def showPlayerFingers(playerList):\n",
    "    for i in playerList:\n",
    "        if(i.leftHand.getFingers() == 0 and i.rightHand.getFingers() == 0):\n",
    "            print(i.getName() + \" 탈락!\")\n",
    "            i.die()\n",
    "\n",
    "    diePerson = 0\n",
    "    for i in playerList:\n",
    "        if i.canPlay() == 1:\n",
    "            print(i.getName() + \"의 손가락 현황\")\n",
    "            i.showFingers()\n",
    "        else:\n",
    "            diePerson += 1\n",
    "    \n",
    "    return (diePerson + 1 == len(playerList))"
   ]
  },
  {
   "cell_type": "code",
   "execution_count": null,
   "metadata": {
    "collapsed": true
   },
   "outputs": [],
   "source": []
  },
  {
   "cell_type": "code",
   "execution_count": null,
   "metadata": {
    "collapsed": true
   },
   "outputs": [],
   "source": []
  },
  {
   "cell_type": "code",
   "execution_count": 12,
   "metadata": {
    "collapsed": true
   },
   "outputs": [],
   "source": [
    "def runGame():\n",
    "    global gamepad, clock, pan\n",
    "    \n",
    "    exit = False\n",
    "    while not exit:\n",
    "        for event in pygame.event.get():\n",
    "            if event.type == pygame.QUIT:\n",
    "                exit = True\n",
    "        gamepad.fill(WHITE)\n",
    "        gamepad.blit(pan, (0, 0))\n",
    "        \n",
    "        finger1 = pygame.image.load('images/1finger.png')\n",
    "        finger1l = pygame.image.load('images/1fingerl.png')\n",
    "        \n",
    "        fInger1 = pygame.transform.rotate(finger1, 180)\n",
    "        fInger1l = pygame.transform.rotate(finger1l, 180)\n",
    "        \n",
    "        gamepad.blit(finger1, (360, 400))\n",
    "        gamepad.blit(finger1l, (160, 400))\n",
    "        gamepad.blit(fInger1, (160, 60))\n",
    "        gamepad.blit(fInger1l, (360, 60))\n",
    "        \n",
    "        gameStart()\n",
    "        \n",
    "        pygame.display.update()\n",
    "        clock.tick(60)\n",
    "        \n",
    "    pygame.quit()"
   ]
  },
  {
   "cell_type": "code",
   "execution_count": 13,
   "metadata": {
    "collapsed": true
   },
   "outputs": [],
   "source": [
    "def initGame():\n",
    "    global gamepad, clock, pan\n",
    "    \n",
    "    pygame.init()\n",
    "    gamepad = pygame.display.set_mode((pad_width, pad_width))\n",
    "    pygame.display.set_caption('Chopsticks_Game')\n",
    "    pan = pygame.image.load('images/pan.png')\n",
    "    \n",
    "    clock = pygame.time.Clock()\n",
    "    runGame()"
   ]
  },
  {
   "cell_type": "code",
   "execution_count": 14,
   "metadata": {},
   "outputs": [
    {
     "ename": "NameError",
     "evalue": "name 'gameStart' is not defined",
     "output_type": "error",
     "traceback": [
      "\u001b[1;31m---------------------------------------------------------------------------\u001b[0m",
      "\u001b[1;31mNameError\u001b[0m                                 Traceback (most recent call last)",
      "\u001b[1;32m<ipython-input-14-ed21c06886b4>\u001b[0m in \u001b[0;36m<module>\u001b[1;34m()\u001b[0m\n\u001b[1;32m----> 1\u001b[1;33m \u001b[0minitGame\u001b[0m\u001b[1;33m(\u001b[0m\u001b[1;33m)\u001b[0m\u001b[1;33m\u001b[0m\u001b[0m\n\u001b[0m",
      "\u001b[1;32m<ipython-input-13-f437a68ede67>\u001b[0m in \u001b[0;36minitGame\u001b[1;34m()\u001b[0m\n\u001b[0;32m      8\u001b[0m \u001b[1;33m\u001b[0m\u001b[0m\n\u001b[0;32m      9\u001b[0m     \u001b[0mclock\u001b[0m \u001b[1;33m=\u001b[0m \u001b[0mpygame\u001b[0m\u001b[1;33m.\u001b[0m\u001b[0mtime\u001b[0m\u001b[1;33m.\u001b[0m\u001b[0mClock\u001b[0m\u001b[1;33m(\u001b[0m\u001b[1;33m)\u001b[0m\u001b[1;33m\u001b[0m\u001b[0m\n\u001b[1;32m---> 10\u001b[1;33m     \u001b[0mrunGame\u001b[0m\u001b[1;33m(\u001b[0m\u001b[1;33m)\u001b[0m\u001b[1;33m\u001b[0m\u001b[0m\n\u001b[0m",
      "\u001b[1;32m<ipython-input-12-197de0e8d15b>\u001b[0m in \u001b[0;36mrunGame\u001b[1;34m()\u001b[0m\n\u001b[0;32m     21\u001b[0m         \u001b[0mgamepad\u001b[0m\u001b[1;33m.\u001b[0m\u001b[0mblit\u001b[0m\u001b[1;33m(\u001b[0m\u001b[0mfInger1l\u001b[0m\u001b[1;33m,\u001b[0m \u001b[1;33m(\u001b[0m\u001b[1;36m360\u001b[0m\u001b[1;33m,\u001b[0m \u001b[1;36m60\u001b[0m\u001b[1;33m)\u001b[0m\u001b[1;33m)\u001b[0m\u001b[1;33m\u001b[0m\u001b[0m\n\u001b[0;32m     22\u001b[0m \u001b[1;33m\u001b[0m\u001b[0m\n\u001b[1;32m---> 23\u001b[1;33m         \u001b[0mgameStart\u001b[0m\u001b[1;33m(\u001b[0m\u001b[1;33m)\u001b[0m\u001b[1;33m\u001b[0m\u001b[0m\n\u001b[0m\u001b[0;32m     24\u001b[0m \u001b[1;33m\u001b[0m\u001b[0m\n\u001b[0;32m     25\u001b[0m         \u001b[0mpygame\u001b[0m\u001b[1;33m.\u001b[0m\u001b[0mdisplay\u001b[0m\u001b[1;33m.\u001b[0m\u001b[0mupdate\u001b[0m\u001b[1;33m(\u001b[0m\u001b[1;33m)\u001b[0m\u001b[1;33m\u001b[0m\u001b[0m\n",
      "\u001b[1;31mNameError\u001b[0m: name 'gameStart' is not defined"
     ]
    }
   ],
   "source": [
    "initGame()"
   ]
  },
  {
   "cell_type": "code",
   "execution_count": null,
   "metadata": {
    "collapsed": true
   },
   "outputs": [],
   "source": []
  }
 ],
 "metadata": {
  "kernelspec": {
   "display_name": "Python 3",
   "language": "python",
   "name": "python3"
  },
  "language_info": {
   "codemirror_mode": {
    "name": "ipython",
    "version": 3
   },
   "file_extension": ".py",
   "mimetype": "text/x-python",
   "name": "python",
   "nbconvert_exporter": "python",
   "pygments_lexer": "ipython3",
   "version": "3.6.3"
  }
 },
 "nbformat": 4,
 "nbformat_minor": 2
}
